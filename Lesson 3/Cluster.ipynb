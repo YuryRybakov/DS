{
 "cells": [
  {
   "cell_type": "markdown",
   "metadata": {
    "pycharm": {
     "name": "#%% md\n"
    }
   },
   "source": [
    "# Задание"
   ]
  },
  {
   "cell_type": "markdown",
   "metadata": {
    "pycharm": {
     "name": "#%% md\n"
    }
   },
   "source": [
    "* Попробовать найти и показать различные инсайты в этом датасете с помощью графиков Seaborn, Matplotlib и Plotly\n",
    "* Дополнить графики комментариями"
   ]
  },
  {
   "cell_type": "markdown",
   "metadata": {
    "pycharm": {
     "name": "#%% md\n"
    }
   },
   "source": [
    "# Описания полей"
   ]
  },
  {
   "cell_type": "markdown",
   "metadata": {
    "pycharm": {
     "name": "#%% md\n"
    }
   },
   "source": [
    "* age\tвозраст\n",
    "* gender\tпол repexc_date\n",
    "* city_type\tТип города проживания клиента\n",
    "* full_mob\tДлительность взаимоотношений с банком\n",
    "\n",
    "* ml_balance\tипотека\n",
    "* cl_balance_0m\tпотребительский кредит\n",
    "* loan_balance_0m\tвсе кредиты\n",
    "\n",
    "* td_balance_0m\tдепозит\n",
    "* casa_balance_0m\tсчета\n",
    "\n",
    "* dc_trx_cnt\tколичество трат по картам\n",
    "* dc_trx_sum\tсумма трат по картам\n",
    "* Avg_trx\tсредний размер транзакции\n",
    "* avgtrx_to_balance\t\n",
    "\n",
    "\n",
    "* min_casa_balance_1q\tпоказатели по счетам за квартал\n",
    "* max_casa_balance_1q\t\n",
    "* avg_casa_balance_1Y\tпоказатели по счетам за год\n",
    "\n",
    "* min_td_balance_1q\t\n",
    "* max_td_balance_1q\t\n",
    "* avg_td_balance_1Y\n",
    "\n",
    "* min_loan_balance_1q\t\n",
    "* max_loan_balance_1q\t\n",
    "* avg_loan_balance_1Y\n",
    "\n",
    "* min_cl_balance_1q\t\n",
    "* max_cl_balance_1q\t\n",
    "* avg_cl_balance_1Y\t\n",
    "* loan_to_deposit\t\n",
    "\n",
    "* income\tдоход клиента\n",
    "* nbi\tдоход от клиента без OPEX"
   ]
  },
  {
   "cell_type": "code",
   "execution_count": 2,
   "metadata": {
    "pycharm": {
     "name": "#%%\n"
    }
   },
   "outputs": [],
   "source": [
    "%matplotlib inline\n",
    "import pandas as pd\n",
    "import matplotlib.pyplot as plt\n",
    "import seaborn as sns\n",
    "import numpy as np\n",
    "from scipy import stats\n",
    "from tqdm.auto import tqdm"
   ]
  },
  {
   "cell_type": "code",
   "execution_count": 3,
   "metadata": {
    "pycharm": {
     "name": "#%%\n"
    }
   },
   "outputs": [
    {
     "data": {
      "text/html": [
       "<div>\n",
       "<style scoped>\n",
       "    .dataframe tbody tr th:only-of-type {\n",
       "        vertical-align: middle;\n",
       "    }\n",
       "\n",
       "    .dataframe tbody tr th {\n",
       "        vertical-align: top;\n",
       "    }\n",
       "\n",
       "    .dataframe thead th {\n",
       "        text-align: right;\n",
       "    }\n",
       "</style>\n",
       "<table border=\"1\" class=\"dataframe\">\n",
       "  <thead>\n",
       "    <tr style=\"text-align: right;\">\n",
       "      <th></th>\n",
       "      <th>age</th>\n",
       "      <th>gender</th>\n",
       "      <th>city_type</th>\n",
       "      <th>full_mob</th>\n",
       "      <th>ml_balance</th>\n",
       "      <th>cl_balance_0m</th>\n",
       "      <th>loan_balance_0m</th>\n",
       "      <th>td_balance_0m</th>\n",
       "      <th>casa_balance_0m</th>\n",
       "      <th>dc_trx_cnt</th>\n",
       "      <th>...</th>\n",
       "      <th>min_loan_balance_1q</th>\n",
       "      <th>max_loan_balance_1q</th>\n",
       "      <th>avg_loan_balance_1Y</th>\n",
       "      <th>min_cl_balance_1q</th>\n",
       "      <th>max_cl_balance_1q</th>\n",
       "      <th>avg_cl_balance_1Y</th>\n",
       "      <th>loan_to_deposit</th>\n",
       "      <th>Avg_trx</th>\n",
       "      <th>avgtrx_to_balance</th>\n",
       "      <th>nbi</th>\n",
       "    </tr>\n",
       "  </thead>\n",
       "  <tbody>\n",
       "    <tr>\n",
       "      <th>0</th>\n",
       "      <td>71</td>\n",
       "      <td>NaN</td>\n",
       "      <td>&lt;100</td>\n",
       "      <td>103</td>\n",
       "      <td>0.0</td>\n",
       "      <td>0.0</td>\n",
       "      <td>0.0</td>\n",
       "      <td>0.0</td>\n",
       "      <td>0.0000</td>\n",
       "      <td>0</td>\n",
       "      <td>...</td>\n",
       "      <td>0.0</td>\n",
       "      <td>0.0</td>\n",
       "      <td>0.0</td>\n",
       "      <td>0.0</td>\n",
       "      <td>0.0</td>\n",
       "      <td>0.0</td>\n",
       "      <td>NaN</td>\n",
       "      <td>NaN</td>\n",
       "      <td>NaN</td>\n",
       "      <td>NaN</td>\n",
       "    </tr>\n",
       "    <tr>\n",
       "      <th>1</th>\n",
       "      <td>49</td>\n",
       "      <td>NaN</td>\n",
       "      <td>Mega</td>\n",
       "      <td>81</td>\n",
       "      <td>0.0</td>\n",
       "      <td>0.0</td>\n",
       "      <td>0.0</td>\n",
       "      <td>0.0</td>\n",
       "      <td>3272.9367</td>\n",
       "      <td>0</td>\n",
       "      <td>...</td>\n",
       "      <td>0.0</td>\n",
       "      <td>0.0</td>\n",
       "      <td>0.0</td>\n",
       "      <td>0.0</td>\n",
       "      <td>0.0</td>\n",
       "      <td>0.0</td>\n",
       "      <td>NaN</td>\n",
       "      <td>NaN</td>\n",
       "      <td>NaN</td>\n",
       "      <td>28.762952</td>\n",
       "    </tr>\n",
       "    <tr>\n",
       "      <th>2</th>\n",
       "      <td>56</td>\n",
       "      <td>NaN</td>\n",
       "      <td>Mega</td>\n",
       "      <td>81</td>\n",
       "      <td>0.0</td>\n",
       "      <td>0.0</td>\n",
       "      <td>0.0</td>\n",
       "      <td>0.0</td>\n",
       "      <td>6249.7550</td>\n",
       "      <td>6</td>\n",
       "      <td>...</td>\n",
       "      <td>0.0</td>\n",
       "      <td>0.0</td>\n",
       "      <td>0.0</td>\n",
       "      <td>0.0</td>\n",
       "      <td>0.0</td>\n",
       "      <td>0.0</td>\n",
       "      <td>NaN</td>\n",
       "      <td>854.67</td>\n",
       "      <td>0.083467</td>\n",
       "      <td>1973.335539</td>\n",
       "    </tr>\n",
       "    <tr>\n",
       "      <th>3</th>\n",
       "      <td>47</td>\n",
       "      <td>NaN</td>\n",
       "      <td>Mega</td>\n",
       "      <td>81</td>\n",
       "      <td>0.0</td>\n",
       "      <td>0.0</td>\n",
       "      <td>0.0</td>\n",
       "      <td>0.0</td>\n",
       "      <td>14354.9370</td>\n",
       "      <td>0</td>\n",
       "      <td>...</td>\n",
       "      <td>0.0</td>\n",
       "      <td>0.0</td>\n",
       "      <td>0.0</td>\n",
       "      <td>0.0</td>\n",
       "      <td>0.0</td>\n",
       "      <td>0.0</td>\n",
       "      <td>NaN</td>\n",
       "      <td>NaN</td>\n",
       "      <td>NaN</td>\n",
       "      <td>364.008556</td>\n",
       "    </tr>\n",
       "    <tr>\n",
       "      <th>4</th>\n",
       "      <td>74</td>\n",
       "      <td>NaN</td>\n",
       "      <td>Mega</td>\n",
       "      <td>81</td>\n",
       "      <td>0.0</td>\n",
       "      <td>0.0</td>\n",
       "      <td>0.0</td>\n",
       "      <td>0.0</td>\n",
       "      <td>91511.7691</td>\n",
       "      <td>0</td>\n",
       "      <td>...</td>\n",
       "      <td>0.0</td>\n",
       "      <td>0.0</td>\n",
       "      <td>0.0</td>\n",
       "      <td>0.0</td>\n",
       "      <td>0.0</td>\n",
       "      <td>0.0</td>\n",
       "      <td>NaN</td>\n",
       "      <td>NaN</td>\n",
       "      <td>NaN</td>\n",
       "      <td>6651.416562</td>\n",
       "    </tr>\n",
       "  </tbody>\n",
       "</table>\n",
       "<p>5 rows × 28 columns</p>\n",
       "</div>"
      ],
      "text/plain": [
       "   age gender city_type  full_mob  ml_balance  cl_balance_0m  loan_balance_0m  \\\n",
       "0   71    NaN      <100       103         0.0            0.0              0.0   \n",
       "1   49    NaN      Mega        81         0.0            0.0              0.0   \n",
       "2   56    NaN      Mega        81         0.0            0.0              0.0   \n",
       "3   47    NaN      Mega        81         0.0            0.0              0.0   \n",
       "4   74    NaN      Mega        81         0.0            0.0              0.0   \n",
       "\n",
       "   td_balance_0m  casa_balance_0m  dc_trx_cnt  ...  min_loan_balance_1q  \\\n",
       "0            0.0           0.0000           0  ...                  0.0   \n",
       "1            0.0        3272.9367           0  ...                  0.0   \n",
       "2            0.0        6249.7550           6  ...                  0.0   \n",
       "3            0.0       14354.9370           0  ...                  0.0   \n",
       "4            0.0       91511.7691           0  ...                  0.0   \n",
       "\n",
       "   max_loan_balance_1q  avg_loan_balance_1Y  min_cl_balance_1q  \\\n",
       "0                  0.0                  0.0                0.0   \n",
       "1                  0.0                  0.0                0.0   \n",
       "2                  0.0                  0.0                0.0   \n",
       "3                  0.0                  0.0                0.0   \n",
       "4                  0.0                  0.0                0.0   \n",
       "\n",
       "   max_cl_balance_1q  avg_cl_balance_1Y  loan_to_deposit  Avg_trx  \\\n",
       "0                0.0                0.0              NaN      NaN   \n",
       "1                0.0                0.0              NaN      NaN   \n",
       "2                0.0                0.0              NaN   854.67   \n",
       "3                0.0                0.0              NaN      NaN   \n",
       "4                0.0                0.0              NaN      NaN   \n",
       "\n",
       "   avgtrx_to_balance          nbi  \n",
       "0                NaN          NaN  \n",
       "1                NaN    28.762952  \n",
       "2           0.083467  1973.335539  \n",
       "3                NaN   364.008556  \n",
       "4                NaN  6651.416562  \n",
       "\n",
       "[5 rows x 28 columns]"
      ]
     },
     "execution_count": 3,
     "metadata": {},
     "output_type": "execute_result"
    }
   ],
   "source": [
    "df = pd.read_csv('test_cluster.csv', encoding='cp1251', sep=';')\n",
    "df.head()"
   ]
  },
  {
   "cell_type": "code",
   "execution_count": 4,
   "metadata": {
    "pycharm": {
     "name": "#%%\n"
    },
    "scrolled": true
   },
   "outputs": [
    {
     "data": {
      "text/plain": [
       "array(['<100', 'Mega', '100-500', '1M+', '500-1000'], dtype=object)"
      ]
     },
     "execution_count": 4,
     "metadata": {},
     "output_type": "execute_result"
    }
   ],
   "source": [
    "df.city_type.unique()"
   ]
  },
  {
   "cell_type": "code",
   "execution_count": 9,
   "metadata": {
    "pycharm": {
     "name": "#%%\n"
    }
   },
   "outputs": [
    {
     "data": {
      "image/png": "[encoded data removed]",
      "text/plain": [
       "<Figure size 360x360 with 1 Axes>"
      ]
     },
     "metadata": {
      "needs_background": "light"
     },
     "output_type": "display_data"
    }
   ],
   "source": [
    "sns.relplot(x='age',\n",
    "            y='income',\n",
    "            data=df,\n",
    "            kind='line',\n",
    "            color='red',\n",
    "            ci=100\n",
    "            )\n",
    "plt.xlabel('Возраст', size=20)\n",
    "plt.ylabel('Доход клиента', size=20)\n",
    "plt.title('Зависимость дохода от возраста', size=20);"
   ]
  },
  {
   "cell_type": "raw",
   "metadata": {},
   "source": [
    "доход увеличивыется примерно до 60 лет, далее идет спад дохода (возможно выход на пенсию?)"
   ]
  }
 ],
 "metadata": {
  "kernelspec": {
   "display_name": "Python 3",
   "language": "python",
   "name": "python3"
  },
  "language_info": {
   "codemirror_mode": {
    "name": "ipython",
    "version": 3
   },
   "file_extension": ".py",
   "mimetype": "text/x-python",
   "name": "python",
   "nbconvert_exporter": "python",
   "pygments_lexer": "ipython3",
   "version": "3.8.5"
  }
 },
 "nbformat": 4,
 "nbformat_minor": 4
}
